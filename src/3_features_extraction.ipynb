{
 "cells": [
  {
   "cell_type": "code",
   "execution_count": null,
   "id": "e54adbd9",
   "metadata": {},
   "outputs": [],
   "source": [
    "import os\n",
    "import numpy as np\n",
    "from disvoice.articulation import Articulation\n",
    "from disvoice.phonation import Phonation\n",
    "from disvoice.prosody import Prosody\n",
    "import math\n",
    "from joblib import Parallel, delayed, cpu_count"
   ]
  },
  {
   "cell_type": "code",
   "execution_count": 83,
   "id": "5f06aa3e",
   "metadata": {},
   "outputs": [],
   "source": [
    "def process_participant_chunk(participant_chunk, input_dir, output_dir):\n",
    "    \"\"\"Processa un chunk di partecipanti estraendo tutte e 3 le features in un singolo processo\"\"\"    \n",
    "    \n",
    "    # Set numpy seed in each worker process for reproducibility\n",
    "    np.random.seed(42)\n",
    "    \n",
    "    # Inizializza tutti gli estrattori\n",
    "    articulation_extractor = Articulation()\n",
    "    phonation_extractor = Phonation()\n",
    "    prosody_extractor = Prosody()\n",
    "    \n",
    "    extractors = {\n",
    "        \"articulation\": articulation_extractor,\n",
    "        \"phonation\": phonation_extractor,\n",
    "        \"prosody\": prosody_extractor\n",
    "    }\n",
    "\n",
    "    for participant_dir in participant_chunk:\n",
    "        participant_path = os.path.join(input_dir, participant_dir)\n",
    "        participant_id = participant_dir.replace(\"_P\", \"\")\n",
    "        audio_path = os.path.join(participant_path, f\"{participant_id}_AUDIO.wav\")\n",
    "        \n",
    "        output_participant_path = os.path.join(output_dir, participant_dir)\n",
    "        os.makedirs(output_participant_path, exist_ok=True)\n",
    "        \n",
    "        # Estrai tutte e 3 le features per il partecipante corrente\n",
    "        for features_type, extractor in extractors.items():\n",
    "            output_file = os.path.join(output_participant_path, f\"{features_type}_features.npy\")\n",
    "            \n",
    "            # Salta se il file esiste già\n",
    "            if os.path.exists(output_file):\n",
    "                continue\n",
    "                \n",
    "            features = extractor.extract_features_file(audio_path, static=True, plots=False, fmt=\"npy\")\n",
    "            np.save(output_file, features)"
   ]
  },
  {
   "cell_type": "code",
   "execution_count": 84,
   "id": "90224331",
   "metadata": {},
   "outputs": [],
   "source": [
    "def extract_all_features_parallel(input_dir, output_dir):\n",
    "    \"\"\"Estrae tutte le features in parallelo usando joblib\"\"\"\n",
    "\n",
    "    # Crea la directory di output se non esiste\n",
    "    os.makedirs(output_dir, exist_ok=True)\n",
    "    \n",
    "    # Trova tutte le directory dei partecipanti che terminano con \"_P\"\n",
    "    all_participant_dirs = sorted([d for d in os.listdir(input_dir) \n",
    "                                  if d.endswith(\"_P\") and os.path.isdir(os.path.join(input_dir, d))])\n",
    "    \n",
    "    # Filtra solo i partecipanti che non hanno tutte le features\n",
    "    participant_dirs = []\n",
    "    feature_types = [\"articulation\", \"phonation\", \"prosody\"]\n",
    "    \n",
    "    for participant_dir in all_participant_dirs:\n",
    "        needs_processing = False\n",
    "        for features_type in feature_types:\n",
    "            output_file = os.path.join(output_dir, participant_dir, f\"{features_type}_features.npy\")\n",
    "            if not os.path.exists(output_file):\n",
    "                needs_processing = True\n",
    "                break\n",
    "        if needs_processing:\n",
    "            participant_dirs.append(participant_dir)\n",
    "    \n",
    "    # Se non ci sono partecipanti da processare, esci\n",
    "    if not participant_dirs:\n",
    "        print(\"No participants to process.\")\n",
    "        return\n",
    "    \n",
    "    n_jobs = cpu_count()  # Numero di processi da utilizzare\n",
    "    # Dividi le sessioni in chunks\n",
    "    chunk_size = math.ceil(len(participant_dirs) / n_jobs)\n",
    "    participant_chunks = [participant_dirs[i:i + chunk_size] for i in range(0, len(participant_dirs), chunk_size)]\n",
    "    \n",
    "    print(f\"Processing {len(participant_dirs)} participants in {len(participant_chunks)} chunks...\")\n",
    "    \n",
    "    # Processa i chunks in parallelo\n",
    "    Parallel(n_jobs=n_jobs, verbose=0)(\n",
    "        delayed(process_participant_chunk)(chunk, input_dir, output_dir)\n",
    "        for chunk in participant_chunks\n",
    "    )"
   ]
  },
  {
   "cell_type": "code",
   "execution_count": 85,
   "id": "c3892e6b",
   "metadata": {},
   "outputs": [
    {
     "name": "stdout",
     "output_type": "stream",
     "text": [
      "Processing 189 participants in 8 chunks...\n"
     ]
    },
    {
     "name": "stderr",
     "output_type": "stream",
     "text": [
      "################################################################################\n",
      "### WARNING, path does not exist: KALDI_ROOT=/mnt/matylda5/iveselyk/Tools/kaldi-trunk\n",
      "###          (please add 'export KALDI_ROOT=<your_path>' in your $HOME/.profile)\n",
      "###          (or run as: KALDI_ROOT=<your_path> python <your_script>.py)\n",
      "################################################################################\n",
      "\n"
     ]
    }
   ],
   "source": [
    "# Elaborazione di tutte le features in una sola chiamata\n",
    "dataset_dir = \"datasets/DAIC-WOZ-Cleaned\"\n",
    "output_dir = \"features/DAIC-WOZ-Cleaned\"\n",
    "extract_all_features_parallel(dataset_dir, output_dir)"
   ]
  }
 ],
 "metadata": {
  "kernelspec": {
   "display_name": "base",
   "language": "python",
   "name": "python3"
  },
  "language_info": {
   "codemirror_mode": {
    "name": "ipython",
    "version": 3
   },
   "file_extension": ".py",
   "mimetype": "text/x-python",
   "name": "python",
   "nbconvert_exporter": "python",
   "pygments_lexer": "ipython3",
   "version": "3.12.2"
  }
 },
 "nbformat": 4,
 "nbformat_minor": 5
}
