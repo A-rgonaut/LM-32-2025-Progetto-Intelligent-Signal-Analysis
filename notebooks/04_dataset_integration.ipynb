{
 "cells": [
  {
   "cell_type": "code",
   "execution_count": 7,
   "id": "bd49c5dc",
   "metadata": {},
   "outputs": [],
   "source": [
    "import os\n",
    "import glob\n",
    "import pandas as pd"
   ]
  },
  {
   "cell_type": "code",
   "execution_count": 8,
   "id": "c2698b95",
   "metadata": {},
   "outputs": [],
   "source": [
    "daic_dir = \"../datasets/DAIC-WOZ/\"\n",
    "edaic_dir = \"../datasets/EDAIC-WOZ/\"    "
   ]
  },
  {
   "cell_type": "code",
   "execution_count": 9,
   "id": "d0dcd76c",
   "metadata": {},
   "outputs": [
    {
     "name": "stdout",
     "output_type": "stream",
     "text": [
      "Found 1 inconsistent labels in train_split_Depression_AVEC2017.csv\n",
      "  Participant 409: PHQ8_Score=10, PHQ8_Binary=0 -> fixing to 1\n",
      "DAIC-WOZ combined data shape: (189, 2)\n",
      "PHQ_Binary distribution in DAIC-WOZ:\n",
      "PHQ_Binary\n",
      "0    132\n",
      "1     57\n",
      "Name: count, dtype: int64\n",
      "EDAIC-WOZ data shape: (29, 2)\n",
      "PHQ_Binary distribution in EDAIC-WOZ:\n",
      "PHQ_Binary\n",
      "1    29\n",
      "Name: count, dtype: int64\n",
      "\n",
      "Merging datasets...\n",
      "\n",
      "Final combined dataset shape: (218, 2)\n",
      "Final PHQ8_Binary distribution:\n",
      "PHQ8_Binary\n",
      "0    132\n",
      "1     86\n",
      "Name: count, dtype: int64\n",
      "\n",
      "Merged dataset saved to: ../datasets/dataset.csv\n"
     ]
    }
   ],
   "source": [
    "csv_files = glob.glob(os.path.join(daic_dir, \"*.csv\"))\n",
    "daic_dfs = []\n",
    "\n",
    "for csv_file in csv_files:\n",
    "    filename = os.path.basename(csv_file)\n",
    "    if filename == \"test_split_Depression_AVEC2017.csv\":\n",
    "        continue\n",
    "    \n",
    "    df = pd.read_csv(csv_file)\n",
    "    \n",
    "    # Handle different column names\n",
    "    phq_binary_col = 'PHQ8_Binary'\n",
    "    if phq_binary_col in df.columns:\n",
    "        phq_score_col = 'PHQ8_Score'\n",
    "    elif 'PHQ_Binary' in df.columns:\n",
    "        phq_binary_col = 'PHQ_Binary'\n",
    "        phq_score_col = 'PHQ_Score'\n",
    "    \n",
    "    # Check for inconsistent labels (PHQ_Score >= 10 but Binary = 0)\n",
    "    if phq_score_col in df.columns:\n",
    "        inconsistent_mask = (df[phq_score_col] >= 10) & (df[phq_binary_col] == 0)\n",
    "        inconsistent_count = inconsistent_mask.sum()\n",
    "        \n",
    "        if inconsistent_count > 0:\n",
    "            print(f\"Found {inconsistent_count} inconsistent labels in {filename}\")\n",
    "            inconsistent_participants = df[inconsistent_mask]['Participant_ID'].tolist()\n",
    "            for pid in inconsistent_participants:\n",
    "                score = df[df['Participant_ID'] == pid][phq_score_col].iloc[0]\n",
    "                print(f\"  Participant {pid}: {phq_score_col}={score}, {phq_binary_col}=0 -> fixing to 1\")\n",
    "            \n",
    "            # Fix inconsistent labels\n",
    "            df.loc[inconsistent_mask, phq_binary_col] = 1\n",
    "    \n",
    "    # Keep only Participant_ID and PHQ_Binary columns\n",
    "    # Standardize column name to PHQ_Binary\n",
    "    df_subset = df[['Participant_ID', phq_binary_col]].copy()\n",
    "    df_subset.rename(columns={phq_binary_col: 'PHQ_Binary'}, inplace=True)\n",
    "    daic_dfs.append(df_subset)\n",
    "\n",
    "# Concatenate all DAIC-WOZ data\n",
    "if daic_dfs:\n",
    "    daic_combined = pd.concat(daic_dfs, ignore_index=True)\n",
    "    # Remove duplicates (keep first occurrence)\n",
    "    daic_combined = daic_combined.drop_duplicates(subset=['Participant_ID'], keep='first')\n",
    "    print(f\"DAIC-WOZ combined data shape: {daic_combined.shape}\")\n",
    "    print(f\"PHQ_Binary distribution in DAIC-WOZ:\\n{daic_combined['PHQ_Binary'].value_counts()}\")\n",
    "\n",
    "edaic_csv_path = os.path.join(edaic_dir, \"all_data.csv\")\n",
    "if os.path.exists(edaic_csv_path):\n",
    "    edaic_df = pd.read_csv(edaic_csv_path)\n",
    "    # Keep only Participant_ID and PHQ_Binary columns\n",
    "    edaic_subset = edaic_df[['Participant_ID', 'PHQ_Binary']].copy()\n",
    "    print(f\"EDAIC-WOZ data shape: {edaic_subset.shape}\")\n",
    "    print(f\"PHQ_Binary distribution in EDAIC-WOZ:\\n{edaic_subset['PHQ_Binary'].value_counts()}\")\n",
    "\n",
    "# Merge both datasets\n",
    "print(\"\\nMerging datasets...\")\n",
    "final_combined = pd.concat([daic_combined, edaic_subset], ignore_index=True)\n",
    "\n",
    "# Rinomina la colonna in PHQ8_Binary\n",
    "final_combined.rename(columns={'PHQ_Binary': 'PHQ8_Binary'}, inplace=True)\n",
    "\n",
    "print(f\"\\nFinal combined dataset shape: {final_combined.shape}\")\n",
    "print(f\"Final PHQ8_Binary distribution:\\n{final_combined['PHQ8_Binary'].value_counts()}\")\n",
    "\n",
    "# Save the merged dataset\n",
    "output_path = \"../datasets/dataset.csv\"\n",
    "final_combined.to_csv(output_path, index=False)\n",
    "print(f\"\\nMerged dataset saved to: {output_path}\")"
   ]
  }
 ],
 "metadata": {
  "kernelspec": {
   "display_name": "Python 3",
   "language": "python",
   "name": "python3"
  },
  "language_info": {
   "codemirror_mode": {
    "name": "ipython",
    "version": 3
   },
   "file_extension": ".py",
   "mimetype": "text/x-python",
   "name": "python",
   "nbconvert_exporter": "python",
   "pygments_lexer": "ipython3",
   "version": "3.13.5"
  }
 },
 "nbformat": 4,
 "nbformat_minor": 5
}
