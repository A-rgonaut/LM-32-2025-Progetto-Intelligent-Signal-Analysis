{
 "cells": [
  {
   "cell_type": "code",
   "execution_count": 2,
   "id": "3de963d6",
   "metadata": {},
   "outputs": [
    {
     "name": "stdout",
     "output_type": "stream",
     "text": [
      "Dati uniti e salvati in ../datasets/EDAIC-WOZ/all_data.csv\n"
     ]
    }
   ],
   "source": [
    "import os\n",
    "import shutil\n",
    "import pandas as pd\n",
    "\n",
    "# Directory principale\n",
    "base_dir = \"../datasets/EDAIC-WOZ\"\n",
    "\n",
    "# 1. Rimozione delle cartelle da 300_P a 492_P\n",
    "for i in range(300, 493):\n",
    "    folder_name = f\"{i}_P\"\n",
    "    folder_path = os.path.join(base_dir, folder_name)\n",
    "    if os.path.exists(folder_path):\n",
    "        shutil.rmtree(folder_path)\n",
    "\n",
    "# 2. Appiattimento della struttura XXX_P/XXX_P -> XXX_P\n",
    "for dir_name in os.listdir(base_dir):\n",
    "    outer_path = os.path.join(base_dir, dir_name)\n",
    "    if os.path.isdir(outer_path):\n",
    "        inner_path = os.path.join(outer_path, dir_name)\n",
    "        if os.path.isdir(inner_path):\n",
    "            # Sposta tutti i file dal secondo livello al primo\n",
    "            for filename in os.listdir(inner_path):\n",
    "                src = os.path.join(inner_path, filename)\n",
    "                dst = os.path.join(outer_path, filename)\n",
    "                shutil.move(src, dst)\n",
    "            # Rimuove la cartella interna vuota\n",
    "            os.rmdir(inner_path)\n",
    "\n",
    "# 3. Unione dei CSV e filtro\n",
    "csv_files = ['dev_split.csv', 'test_split.csv', 'train_split.csv']\n",
    "dfs = []\n",
    "\n",
    "for csv_file in csv_files:\n",
    "    path = os.path.join(base_dir, csv_file)\n",
    "    df = pd.read_csv(path)\n",
    "    dfs.append(df)\n",
    "\n",
    "all_data = pd.concat(dfs, ignore_index=True)\n",
    "\n",
    "# Filtra da 300 a 492\n",
    "all_data = all_data[~all_data['Participant_ID'].between(300, 492)]\n",
    "\n",
    "# Salva\n",
    "output_path = os.path.join(base_dir, \"all_data.csv\")\n",
    "all_data.to_csv(output_path, index=False)\n",
    "print(f\"Dati uniti e salvati in {output_path}\")"
   ]
  }
 ],
 "metadata": {
  "kernelspec": {
   "display_name": "base",
   "language": "python",
   "name": "python3"
  },
  "language_info": {
   "codemirror_mode": {
    "name": "ipython",
    "version": 3
   },
   "file_extension": ".py",
   "mimetype": "text/x-python",
   "name": "python",
   "nbconvert_exporter": "python",
   "pygments_lexer": "ipython3",
   "version": "3.12.2"
  }
 },
 "nbformat": 4,
 "nbformat_minor": 5
}
