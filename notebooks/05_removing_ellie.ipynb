{
 "cells": [
  {
   "cell_type": "code",
   "execution_count": null,
   "id": "dfd08940",
   "metadata": {},
   "outputs": [],
   "source": [
    "import os\n",
    "import numpy as np\n",
    "import pandas as pd\n",
    "import soundfile as sf\n",
    "from tqdm import tqdm\n",
    "import librosa\n",
    "import random\n",
    "\n",
    "SEED = 42\n",
    "np.random.seed(SEED)\n",
    "random.seed(SEED)"
   ]
  },
  {
   "cell_type": "code",
   "execution_count": 10,
   "id": "9b79ce28",
   "metadata": {},
   "outputs": [],
   "source": [
    "def clean_audio_and_transcript(input_audio_path, transcript_path, \n",
    "                               output_audio_path, output_transcript_path,\n",
    "                               buffer_sec=0.1, min_gap_for_pause=2.0, \n",
    "                               pause_duration=0.5):\n",
    "    \"\"\"\n",
    "    Clean audio and transcript by extracting only participant segments\n",
    "    \n",
    "    \"\"\"\n",
    "    # ------------------------------------------------------------------ I/O\n",
    "    audio, sr = sf.read(input_audio_path)\n",
    "    if audio.ndim > 1:\n",
    "        audio = librosa.to_mono(audio)               \n",
    "    print(audio.shape)\n",
    "    transcript = pd.read_csv(transcript_path, sep='\\t')\n",
    "\n",
    "    # ---------- 1) porta l'asse dei tempi a 0 prima di qualunque elaborazione\n",
    "    ### MOD: calcolo offset\n",
    "    offset = transcript['start_time'].min()\n",
    "    transcript['start_time'] -= offset\n",
    "    transcript['stop_time']  -= offset\n",
    "    transcript['start_time']= transcript['start_time'].clip(lower=0)             \n",
    "    transcript['stop_time']= transcript['stop_time'].clip(lower=0) \n",
    "    # ---------- 2) filtra solo i segmenti del Participant (stessa tua logica)\n",
    "    participant_segments = transcript[\n",
    "        (transcript['speaker'] == 'Participant') &\n",
    "        (~transcript['value'].str.contains('scrubbed_entry|<synch>|<sync>', \n",
    "                                           na=False))\n",
    "    ].copy()\n",
    "\n",
    "    # ---------- 3) indici in campioni, buffer\n",
    "    buffer_samples = int(buffer_sec * sr)\n",
    "    starts = ((participant_segments['start_time'] * sr).astype(np.int32)\n",
    "              - buffer_samples).clip(lower=0)\n",
    "    ends   = ((participant_segments['stop_time']  * sr).astype(np.int32)\n",
    "              + buffer_samples).clip(upper=len(audio))\n",
    "\n",
    "    # ---------- 4) pause tra segmenti (tua logica invariata)\n",
    "    insert_pause = []\n",
    "    for i in range(len(participant_segments) - 1):\n",
    "        current_end = participant_segments.iloc[i]['stop_time']\n",
    "        next_start  = participant_segments.iloc[i + 1]['start_time']\n",
    "        gap_duration = next_start - current_end\n",
    "        insert_pause.append(gap_duration >= min_gap_for_pause)\n",
    "\n",
    "    # ---------- 5) estrai audio + eventuali pause\n",
    "    audio_segments = []\n",
    "    pause_samples = np.zeros(int(pause_duration * sr), dtype=np.float32)\n",
    "\n",
    "    for i, (s, e) in enumerate(zip(starts, ends)):\n",
    "        audio_segments.append(audio[s:e])\n",
    "\n",
    "        if i < len(insert_pause) and insert_pause[i]:\n",
    "            audio_segments.append(pause_samples)\n",
    "\n",
    "    # gestisci caso senza segmenti validi\n",
    "    if not audio_segments:\n",
    "        raise ValueError(\"Nessun segmento 'Participant' nel transcript\")\n",
    "\n",
    "    cleaned_audio = np.concatenate(audio_segments)\n",
    "\n",
    "    # ---------- 6) ricostruisci timestamp output\n",
    "    current_time = 0.0\n",
    "    new_starts, new_stops = [], []\n",
    "\n",
    "    for i, (s, e) in enumerate(zip(starts, ends)):\n",
    "        segment_duration = (e - s) / sr\n",
    "        new_starts.append(current_time)\n",
    "        current_time += segment_duration\n",
    "        new_stops.append(current_time)\n",
    "\n",
    "        if i < len(insert_pause) and insert_pause[i]:\n",
    "            current_time += pause_duration\n",
    "\n",
    "    participant_segments['start_time'] = new_starts\n",
    "    participant_segments['stop_time']  = new_stops\n",
    "    participant_segments = participant_segments.drop('speaker', axis=1)\n",
    "\n",
    "    # ---------- 7) salva e ritorna\n",
    "    sf.write(output_audio_path, cleaned_audio, sr, subtype='PCM_16')\n",
    "    participant_segments.to_csv(output_transcript_path, sep='\\t', index=False)\n",
    "\n",
    "    original_duration = len(audio) / sr\n",
    "    cleaned_duration  = len(cleaned_audio) / sr\n",
    "    return original_duration, cleaned_duration"
   ]
  },
  {
   "cell_type": "code",
   "execution_count": 11,
   "id": "8cd88443",
   "metadata": {},
   "outputs": [
    {
     "name": "stdout",
     "output_type": "stream",
     "text": [
      "Processing ../datasets/DAIC-WOZ -> ../datasets/DAIC-WOZ-preprocessed\n"
     ]
    },
    {
     "name": "stderr",
     "output_type": "stream",
     "text": [
      "Processing DAIC-WOZ sessions:   0%|          | 0/189 [00:00<?, ?it/s]"
     ]
    },
    {
     "name": "stdout",
     "output_type": "stream",
     "text": [
      "(10376000,)\n",
      "(13182400,)\n"
     ]
    },
    {
     "name": "stderr",
     "output_type": "stream",
     "text": [
      "Processing DAIC-WOZ sessions:   1%|          | 2/189 [00:00<00:22,  8.37it/s]"
     ]
    },
    {
     "name": "stdout",
     "output_type": "stream",
     "text": [
      "(12140800,)\n",
      "(15764800,)\n"
     ]
    },
    {
     "name": "stderr",
     "output_type": "stream",
     "text": [
      "Processing DAIC-WOZ sessions:   3%|▎         | 5/189 [00:00<00:24,  7.40it/s]"
     ]
    },
    {
     "name": "stdout",
     "output_type": "stream",
     "text": [
      "(12681600,)\n"
     ]
    },
    {
     "name": "stderr",
     "output_type": "stream",
     "text": [
      "Processing DAIC-WOZ sessions:   3%|▎         | 6/189 [00:00<00:34,  5.31it/s]"
     ]
    },
    {
     "name": "stdout",
     "output_type": "stream",
     "text": [
      "(27264000,)\n"
     ]
    },
    {
     "name": "stderr",
     "output_type": "stream",
     "text": [
      "Processing DAIC-WOZ sessions:   4%|▎         | 7/189 [00:01<00:31,  5.83it/s]"
     ]
    },
    {
     "name": "stdout",
     "output_type": "stream",
     "text": [
      "(13729600,)\n",
      "(19820800,)\n"
     ]
    },
    {
     "name": "stderr",
     "output_type": "stream",
     "text": [
      "Processing DAIC-WOZ sessions:   5%|▍         | 9/189 [00:01<00:28,  6.31it/s]"
     ]
    },
    {
     "name": "stdout",
     "output_type": "stream",
     "text": [
      "(13881600,)\n",
      "(11292800,)\n",
      "(13518400,)\n"
     ]
    },
    {
     "name": "stderr",
     "output_type": "stream",
     "text": [
      "Processing DAIC-WOZ sessions:   7%|▋         | 13/189 [00:01<00:19,  9.19it/s]"
     ]
    },
    {
     "name": "stdout",
     "output_type": "stream",
     "text": [
      "(12569600,)\n",
      "(12640000,)\n",
      "(12060800,)\n"
     ]
    },
    {
     "name": "stderr",
     "output_type": "stream",
     "text": [
      "Processing DAIC-WOZ sessions:   8%|▊         | 15/189 [00:02<00:22,  7.86it/s]"
     ]
    },
    {
     "name": "stdout",
     "output_type": "stream",
     "text": [
      "(24747200,)\n"
     ]
    },
    {
     "name": "stderr",
     "output_type": "stream",
     "text": [
      "Processing DAIC-WOZ sessions:   8%|▊         | 16/189 [00:02<00:22,  7.79it/s]"
     ]
    },
    {
     "name": "stdout",
     "output_type": "stream",
     "text": [
      "(15606400,)\n",
      "(13904000,)\n"
     ]
    },
    {
     "name": "stderr",
     "output_type": "stream",
     "text": [
      "Processing DAIC-WOZ sessions:  11%|█         | 20/189 [00:02<00:16, 10.06it/s]"
     ]
    },
    {
     "name": "stdout",
     "output_type": "stream",
     "text": [
      "(12878400,)\n",
      "(9414400,)\n",
      "(10875200,)\n"
     ]
    },
    {
     "name": "stderr",
     "output_type": "stream",
     "text": [
      "Processing DAIC-WOZ sessions:  12%|█▏        | 22/189 [00:02<00:16, 10.17it/s]"
     ]
    },
    {
     "name": "stdout",
     "output_type": "stream",
     "text": [
      "(13451200,)\n",
      "(13150400,)\n"
     ]
    },
    {
     "name": "stderr",
     "output_type": "stream",
     "text": [
      "Processing DAIC-WOZ sessions:  13%|█▎        | 24/189 [00:02<00:17,  9.57it/s]"
     ]
    },
    {
     "name": "stdout",
     "output_type": "stream",
     "text": [
      "(16753600,)\n",
      "(13392000,)\n"
     ]
    },
    {
     "name": "stderr",
     "output_type": "stream",
     "text": [
      "Processing DAIC-WOZ sessions:  14%|█▍        | 26/189 [00:03<00:17,  9.43it/s]"
     ]
    },
    {
     "name": "stdout",
     "output_type": "stream",
     "text": [
      "(11540800,)\n",
      "(14000000,)\n"
     ]
    },
    {
     "name": "stderr",
     "output_type": "stream",
     "text": [
      "Processing DAIC-WOZ sessions:  15%|█▍        | 28/189 [00:03<00:15, 10.45it/s]"
     ]
    },
    {
     "name": "stdout",
     "output_type": "stream",
     "text": [
      "(11187200,)\n",
      "(10892800,)\n",
      "(17043200,)\n"
     ]
    },
    {
     "name": "stderr",
     "output_type": "stream",
     "text": [
      "Processing DAIC-WOZ sessions:  16%|█▌        | 30/189 [00:03<00:16,  9.72it/s]"
     ]
    },
    {
     "name": "stdout",
     "output_type": "stream",
     "text": [
      "(11300800,)\n",
      "(12344000,)\n",
      "(13611200,)\n"
     ]
    },
    {
     "name": "stderr",
     "output_type": "stream",
     "text": [
      "Processing DAIC-WOZ sessions:  18%|█▊        | 34/189 [00:03<00:15, 10.05it/s]"
     ]
    },
    {
     "name": "stdout",
     "output_type": "stream",
     "text": [
      "(13985600,)\n",
      "(15508800,)\n"
     ]
    },
    {
     "name": "stderr",
     "output_type": "stream",
     "text": [
      "Processing DAIC-WOZ sessions:  19%|█▉        | 36/189 [00:04<00:16,  9.55it/s]"
     ]
    },
    {
     "name": "stdout",
     "output_type": "stream",
     "text": [
      "(15680000,)\n",
      "(13281600,)\n"
     ]
    },
    {
     "name": "stderr",
     "output_type": "stream",
     "text": [
      "Processing DAIC-WOZ sessions:  20%|█▉        | 37/189 [00:04<00:16,  9.41it/s]"
     ]
    },
    {
     "name": "stdout",
     "output_type": "stream",
     "text": [
      "(15112000,)\n",
      "(29939200,)\n"
     ]
    },
    {
     "name": "stderr",
     "output_type": "stream",
     "text": [
      "Processing DAIC-WOZ sessions:  21%|██        | 40/189 [00:04<00:17,  8.36it/s]"
     ]
    },
    {
     "name": "stdout",
     "output_type": "stream",
     "text": [
      "(9548800,)\n",
      "(13806400,)\n",
      "(9588800,)\n"
     ]
    },
    {
     "name": "stderr",
     "output_type": "stream",
     "text": [
      "Processing DAIC-WOZ sessions:  22%|██▏       | 42/189 [00:04<00:16,  9.04it/s]"
     ]
    },
    {
     "name": "stdout",
     "output_type": "stream",
     "text": [
      "(13880000,)\n",
      "(14836800,)\n"
     ]
    },
    {
     "name": "stderr",
     "output_type": "stream",
     "text": [
      "Processing DAIC-WOZ sessions:  24%|██▍       | 45/189 [00:05<00:16,  8.99it/s]"
     ]
    },
    {
     "name": "stdout",
     "output_type": "stream",
     "text": [
      "(17448000,)\n",
      "(12702400,)\n"
     ]
    },
    {
     "name": "stderr",
     "output_type": "stream",
     "text": [
      "Processing DAIC-WOZ sessions:  24%|██▍       | 46/189 [00:05<00:17,  8.16it/s]"
     ]
    },
    {
     "name": "stdout",
     "output_type": "stream",
     "text": [
      "(19548800,)\n",
      "(9785600,)\n",
      "(11510400,)\n"
     ]
    },
    {
     "name": "stderr",
     "output_type": "stream",
     "text": [
      "Processing DAIC-WOZ sessions:  26%|██▋       | 50/189 [00:05<00:15,  8.98it/s]"
     ]
    },
    {
     "name": "stdout",
     "output_type": "stream",
     "text": [
      "(19456000,)\n",
      "(14108800,)\n"
     ]
    },
    {
     "name": "stderr",
     "output_type": "stream",
     "text": [
      "Processing DAIC-WOZ sessions:  28%|██▊       | 52/189 [00:06<00:14,  9.18it/s]"
     ]
    },
    {
     "name": "stdout",
     "output_type": "stream",
     "text": [
      "(12313600,)\n",
      "(12161600,)\n"
     ]
    },
    {
     "name": "stderr",
     "output_type": "stream",
     "text": [
      "Processing DAIC-WOZ sessions:  29%|██▉       | 55/189 [00:06<00:12, 10.86it/s]"
     ]
    },
    {
     "name": "stdout",
     "output_type": "stream",
     "text": [
      "(12576000,)\n",
      "(9228800,)\n",
      "(10795200,)\n"
     ]
    },
    {
     "name": "stderr",
     "output_type": "stream",
     "text": [
      "Processing DAIC-WOZ sessions:  30%|███       | 57/189 [00:06<00:11, 11.14it/s]"
     ]
    },
    {
     "name": "stdout",
     "output_type": "stream",
     "text": [
      "(15264000,)\n",
      "(6636800,)\n",
      "(10366400,)\n"
     ]
    },
    {
     "name": "stderr",
     "output_type": "stream",
     "text": [
      "Processing DAIC-WOZ sessions:  31%|███       | 59/189 [00:06<00:12, 10.36it/s]"
     ]
    },
    {
     "name": "stdout",
     "output_type": "stream",
     "text": [
      "(16537600,)\n",
      "(7046400,)\n",
      "(10270400,)\n"
     ]
    },
    {
     "name": "stderr",
     "output_type": "stream",
     "text": [
      "Processing DAIC-WOZ sessions:  32%|███▏      | 61/189 [00:06<00:11, 11.40it/s]"
     ]
    },
    {
     "name": "stdout",
     "output_type": "stream",
     "text": [
      "(9443200,)\n",
      "(19633600,)\n"
     ]
    },
    {
     "name": "stderr",
     "output_type": "stream",
     "text": [
      "Processing DAIC-WOZ sessions:  33%|███▎      | 63/189 [00:07<00:12, 10.06it/s]"
     ]
    },
    {
     "name": "stdout",
     "output_type": "stream",
     "text": [
      "(28504000,)\n"
     ]
    },
    {
     "name": "stderr",
     "output_type": "stream",
     "text": [
      "Processing DAIC-WOZ sessions:  34%|███▍      | 65/189 [00:07<00:16,  7.34it/s]"
     ]
    },
    {
     "name": "stdout",
     "output_type": "stream",
     "text": [
      "(22177600,)\n",
      "(21003200,)\n"
     ]
    },
    {
     "name": "stderr",
     "output_type": "stream",
     "text": [
      "Processing DAIC-WOZ sessions:  35%|███▌      | 67/189 [00:07<00:19,  6.23it/s]"
     ]
    },
    {
     "name": "stdout",
     "output_type": "stream",
     "text": [
      "(26192000,)\n"
     ]
    },
    {
     "name": "stderr",
     "output_type": "stream",
     "text": [
      "Processing DAIC-WOZ sessions:  36%|███▌      | 68/189 [00:08<00:20,  5.96it/s]"
     ]
    },
    {
     "name": "stdout",
     "output_type": "stream",
     "text": [
      "(21676800,)\n",
      "(16657600,)\n"
     ]
    },
    {
     "name": "stderr",
     "output_type": "stream",
     "text": [
      "Processing DAIC-WOZ sessions:  37%|███▋      | 70/189 [00:08<00:20,  5.93it/s]"
     ]
    },
    {
     "name": "stdout",
     "output_type": "stream",
     "text": [
      "(19337600,)\n",
      "(14587200,)\n"
     ]
    },
    {
     "name": "stderr",
     "output_type": "stream",
     "text": [
      "Processing DAIC-WOZ sessions:  38%|███▊      | 72/189 [00:08<00:18,  6.31it/s]"
     ]
    },
    {
     "name": "stdout",
     "output_type": "stream",
     "text": [
      "(24219200,)\n",
      "(20241600,)\n"
     ]
    },
    {
     "name": "stderr",
     "output_type": "stream",
     "text": [
      "Processing DAIC-WOZ sessions:  39%|███▉      | 74/189 [00:09<00:19,  5.89it/s]"
     ]
    },
    {
     "name": "stdout",
     "output_type": "stream",
     "text": [
      "(20603200,)\n",
      "(9939200,)\n"
     ]
    },
    {
     "name": "stderr",
     "output_type": "stream",
     "text": [
      "Processing DAIC-WOZ sessions:  40%|████      | 76/189 [00:09<00:16,  6.97it/s]"
     ]
    },
    {
     "name": "stdout",
     "output_type": "stream",
     "text": [
      "(16411200,)\n",
      "(21252800,)\n"
     ]
    },
    {
     "name": "stderr",
     "output_type": "stream",
     "text": [
      "Processing DAIC-WOZ sessions:  41%|████▏     | 78/189 [00:09<00:15,  6.98it/s]"
     ]
    },
    {
     "name": "stdout",
     "output_type": "stream",
     "text": [
      "(13974400,)\n",
      "(16033600,)\n"
     ]
    },
    {
     "name": "stderr",
     "output_type": "stream",
     "text": [
      "Processing DAIC-WOZ sessions:  42%|████▏     | 80/189 [00:09<00:19,  5.61it/s]"
     ]
    },
    {
     "name": "stdout",
     "output_type": "stream",
     "text": [
      "(31459200,)\n"
     ]
    },
    {
     "name": "stderr",
     "output_type": "stream",
     "text": [
      "Processing DAIC-WOZ sessions:  43%|████▎     | 81/189 [00:10<00:17,  6.05it/s]"
     ]
    },
    {
     "name": "stdout",
     "output_type": "stream",
     "text": [
      "(17428800,)\n",
      "(13187200,)\n"
     ]
    },
    {
     "name": "stderr",
     "output_type": "stream",
     "text": [
      "Processing DAIC-WOZ sessions:  44%|████▍     | 83/189 [00:10<00:16,  6.51it/s]"
     ]
    },
    {
     "name": "stdout",
     "output_type": "stream",
     "text": [
      "(21905600,)\n",
      "(16908800,)\n"
     ]
    },
    {
     "name": "stderr",
     "output_type": "stream",
     "text": [
      "Processing DAIC-WOZ sessions:  46%|████▌     | 86/189 [00:10<00:13,  7.86it/s]"
     ]
    },
    {
     "name": "stdout",
     "output_type": "stream",
     "text": [
      "(8580800,)\n",
      "(16630400,)\n",
      "(9644800,)\n"
     ]
    },
    {
     "name": "stderr",
     "output_type": "stream",
     "text": [
      "Processing DAIC-WOZ sessions:  47%|████▋     | 88/189 [00:10<00:10,  9.48it/s]"
     ]
    },
    {
     "name": "stdout",
     "output_type": "stream",
     "text": [
      "(13299200,)\n",
      "(15251200,)\n",
      "(21707200,)\n"
     ]
    },
    {
     "name": "stderr",
     "output_type": "stream",
     "text": [
      "Processing DAIC-WOZ sessions:  49%|████▊     | 92/189 [00:11<00:09,  9.94it/s]"
     ]
    },
    {
     "name": "stdout",
     "output_type": "stream",
     "text": [
      "(10881600,)\n",
      "(10491200,)\n",
      "(10080000,)\n"
     ]
    },
    {
     "name": "stderr",
     "output_type": "stream",
     "text": [
      "Processing DAIC-WOZ sessions:  50%|████▉     | 94/189 [00:11<00:09, 10.22it/s]"
     ]
    },
    {
     "name": "stdout",
     "output_type": "stream",
     "text": [
      "(14227200,)\n",
      "(12486400,)\n"
     ]
    },
    {
     "name": "stderr",
     "output_type": "stream",
     "text": [
      "Processing DAIC-WOZ sessions:  51%|█████     | 96/189 [00:11<00:09,  9.83it/s]"
     ]
    },
    {
     "name": "stdout",
     "output_type": "stream",
     "text": [
      "(15252800,)\n",
      "(11744000,)\n"
     ]
    },
    {
     "name": "stderr",
     "output_type": "stream",
     "text": [
      "Processing DAIC-WOZ sessions:  52%|█████▏    | 99/189 [00:12<00:09,  9.21it/s]"
     ]
    },
    {
     "name": "stdout",
     "output_type": "stream",
     "text": [
      "(14987200,)\n",
      "(14947200,)\n"
     ]
    },
    {
     "name": "stderr",
     "output_type": "stream",
     "text": [
      "Processing DAIC-WOZ sessions:  53%|█████▎    | 101/189 [00:12<00:09,  8.85it/s]"
     ]
    },
    {
     "name": "stdout",
     "output_type": "stream",
     "text": [
      "(15287980,)\n",
      "(13800000,)\n"
     ]
    },
    {
     "name": "stderr",
     "output_type": "stream",
     "text": [
      "Processing DAIC-WOZ sessions:  54%|█████▍    | 102/189 [00:12<00:10,  8.19it/s]"
     ]
    },
    {
     "name": "stdout",
     "output_type": "stream",
     "text": [
      "(18089600,)\n",
      "(25123200,)\n"
     ]
    },
    {
     "name": "stderr",
     "output_type": "stream",
     "text": [
      "Processing DAIC-WOZ sessions:  54%|█████▍    | 103/189 [00:12<00:12,  6.65it/s]"
     ]
    },
    {
     "name": "stdout",
     "output_type": "stream",
     "text": [
      "(11548800,)\n",
      "(20038400,)\n"
     ]
    },
    {
     "name": "stderr",
     "output_type": "stream",
     "text": [
      "Processing DAIC-WOZ sessions:  56%|█████▌    | 105/189 [00:12<00:12,  6.97it/s]"
     ]
    },
    {
     "name": "stdout",
     "output_type": "stream",
     "text": [
      "(11454400,)\n",
      "(16518400,)\n"
     ]
    },
    {
     "name": "stderr",
     "output_type": "stream",
     "text": [
      "Processing DAIC-WOZ sessions:  57%|█████▋    | 108/189 [00:13<00:11,  7.21it/s]"
     ]
    },
    {
     "name": "stdout",
     "output_type": "stream",
     "text": [
      "(17040000,)\n",
      "(22126400,)\n"
     ]
    },
    {
     "name": "stderr",
     "output_type": "stream",
     "text": [
      "Processing DAIC-WOZ sessions:  59%|█████▊    | 111/189 [00:13<00:10,  7.21it/s]"
     ]
    },
    {
     "name": "stdout",
     "output_type": "stream",
     "text": [
      "(13710400,)\n",
      "(15948800,)\n"
     ]
    },
    {
     "name": "stderr",
     "output_type": "stream",
     "text": [
      "Processing DAIC-WOZ sessions:  59%|█████▉    | 112/189 [00:13<00:10,  7.25it/s]"
     ]
    },
    {
     "name": "stdout",
     "output_type": "stream",
     "text": [
      "(15748800,)\n",
      "(12491200,)\n"
     ]
    },
    {
     "name": "stderr",
     "output_type": "stream",
     "text": [
      "Processing DAIC-WOZ sessions:  61%|██████    | 115/189 [00:14<00:09,  8.00it/s]"
     ]
    },
    {
     "name": "stdout",
     "output_type": "stream",
     "text": [
      "(13852800,)\n",
      "(14180800,)\n"
     ]
    },
    {
     "name": "stderr",
     "output_type": "stream",
     "text": [
      "Processing DAIC-WOZ sessions:  61%|██████▏   | 116/189 [00:14<00:09,  7.62it/s]"
     ]
    },
    {
     "name": "stdout",
     "output_type": "stream",
     "text": [
      "(17427200,)\n",
      "(14500800,)\n"
     ]
    },
    {
     "name": "stderr",
     "output_type": "stream",
     "text": [
      "Processing DAIC-WOZ sessions:  63%|██████▎   | 119/189 [00:14<00:08,  8.09it/s]"
     ]
    },
    {
     "name": "stdout",
     "output_type": "stream",
     "text": [
      "(16782400,)\n",
      "(13392000,)\n"
     ]
    },
    {
     "name": "stderr",
     "output_type": "stream",
     "text": [
      "Processing DAIC-WOZ sessions:  63%|██████▎   | 120/189 [00:14<00:09,  7.20it/s]"
     ]
    },
    {
     "name": "stdout",
     "output_type": "stream",
     "text": [
      "(21353600,)\n",
      "(15934400,)\n"
     ]
    },
    {
     "name": "stderr",
     "output_type": "stream",
     "text": [
      "Processing DAIC-WOZ sessions:  65%|██████▍   | 122/189 [00:15<00:09,  6.96it/s]"
     ]
    },
    {
     "name": "stdout",
     "output_type": "stream",
     "text": [
      "(17003200,)\n",
      "(18476800,)\n"
     ]
    },
    {
     "name": "stderr",
     "output_type": "stream",
     "text": [
      "Processing DAIC-WOZ sessions:  66%|██████▌   | 125/189 [00:15<00:08,  7.93it/s]"
     ]
    },
    {
     "name": "stdout",
     "output_type": "stream",
     "text": [
      "(13708800,)\n",
      "(13948800,)\n"
     ]
    },
    {
     "name": "stderr",
     "output_type": "stream",
     "text": [
      "Processing DAIC-WOZ sessions:  67%|██████▋   | 127/189 [00:15<00:07,  8.84it/s]"
     ]
    },
    {
     "name": "stdout",
     "output_type": "stream",
     "text": [
      "(11265600,)\n",
      "(15320000,)\n"
     ]
    },
    {
     "name": "stderr",
     "output_type": "stream",
     "text": [
      "Processing DAIC-WOZ sessions:  68%|██████▊   | 129/189 [00:15<00:06,  8.88it/s]"
     ]
    },
    {
     "name": "stdout",
     "output_type": "stream",
     "text": [
      "(14540800,)\n",
      "(13340800,)\n"
     ]
    },
    {
     "name": "stderr",
     "output_type": "stream",
     "text": [
      "Processing DAIC-WOZ sessions:  69%|██████▉   | 130/189 [00:16<00:06,  8.72it/s]"
     ]
    },
    {
     "name": "stdout",
     "output_type": "stream",
     "text": [
      "(14974400,)\n",
      "(12830400,)\n"
     ]
    },
    {
     "name": "stderr",
     "output_type": "stream",
     "text": [
      "Processing DAIC-WOZ sessions:  70%|██████▉   | 132/189 [00:16<00:07,  7.95it/s]"
     ]
    },
    {
     "name": "stdout",
     "output_type": "stream",
     "text": [
      "(21118400,)\n",
      "(18960000,)\n"
     ]
    },
    {
     "name": "stderr",
     "output_type": "stream",
     "text": [
      "Processing DAIC-WOZ sessions:  71%|███████▏  | 135/189 [00:16<00:06,  8.36it/s]"
     ]
    },
    {
     "name": "stdout",
     "output_type": "stream",
     "text": [
      "(11006400,)\n",
      "(13593600,)\n"
     ]
    },
    {
     "name": "stderr",
     "output_type": "stream",
     "text": [
      "Processing DAIC-WOZ sessions:  72%|███████▏  | 136/189 [00:16<00:07,  7.11it/s]"
     ]
    },
    {
     "name": "stdout",
     "output_type": "stream",
     "text": [
      "(22878400,)\n"
     ]
    },
    {
     "name": "stderr",
     "output_type": "stream",
     "text": [
      "Processing DAIC-WOZ sessions:  72%|███████▏  | 137/189 [00:17<00:08,  6.48it/s]"
     ]
    },
    {
     "name": "stdout",
     "output_type": "stream",
     "text": [
      "(20553600,)\n"
     ]
    },
    {
     "name": "stderr",
     "output_type": "stream",
     "text": [
      "Processing DAIC-WOZ sessions:  73%|███████▎  | 138/189 [00:17<00:08,  6.25it/s]"
     ]
    },
    {
     "name": "stdout",
     "output_type": "stream",
     "text": [
      "(22625600,)\n",
      "(15540800,)\n"
     ]
    },
    {
     "name": "stderr",
     "output_type": "stream",
     "text": [
      "Processing DAIC-WOZ sessions:  74%|███████▍  | 140/189 [00:17<00:06,  7.04it/s]"
     ]
    },
    {
     "name": "stdout",
     "output_type": "stream",
     "text": [
      "(15200000,)\n",
      "(11220800,)\n"
     ]
    },
    {
     "name": "stderr",
     "output_type": "stream",
     "text": [
      "Processing DAIC-WOZ sessions:  75%|███████▌  | 142/189 [00:17<00:06,  7.14it/s]"
     ]
    },
    {
     "name": "stdout",
     "output_type": "stream",
     "text": [
      "(20968000,)\n",
      "(11353600,)\n"
     ]
    },
    {
     "name": "stderr",
     "output_type": "stream",
     "text": [
      "Processing DAIC-WOZ sessions:  76%|███████▌  | 144/189 [00:18<00:05,  7.63it/s]"
     ]
    },
    {
     "name": "stdout",
     "output_type": "stream",
     "text": [
      "(15974400,)\n",
      "(13124800,)\n"
     ]
    },
    {
     "name": "stderr",
     "output_type": "stream",
     "text": [
      "Processing DAIC-WOZ sessions:  77%|███████▋  | 146/189 [00:18<00:05,  7.23it/s]"
     ]
    },
    {
     "name": "stdout",
     "output_type": "stream",
     "text": [
      "(19408000,)\n",
      "(16475200,)\n"
     ]
    },
    {
     "name": "stderr",
     "output_type": "stream",
     "text": [
      "Processing DAIC-WOZ sessions:  78%|███████▊  | 148/189 [00:18<00:06,  6.66it/s]"
     ]
    },
    {
     "name": "stdout",
     "output_type": "stream",
     "text": [
      "(20403200,)\n",
      "(19014400,)\n"
     ]
    },
    {
     "name": "stderr",
     "output_type": "stream",
     "text": [
      "Processing DAIC-WOZ sessions:  80%|███████▉  | 151/189 [00:19<00:05,  7.49it/s]"
     ]
    },
    {
     "name": "stdout",
     "output_type": "stream",
     "text": [
      "(14225600,)\n",
      "(16515200,)\n"
     ]
    },
    {
     "name": "stderr",
     "output_type": "stream",
     "text": [
      "Processing DAIC-WOZ sessions:  81%|████████  | 153/189 [00:19<00:04,  8.44it/s]"
     ]
    },
    {
     "name": "stdout",
     "output_type": "stream",
     "text": [
      "(12865600,)\n",
      "(12006400,)\n",
      "(14123200,)\n"
     ]
    },
    {
     "name": "stderr",
     "output_type": "stream",
     "text": [
      "Processing DAIC-WOZ sessions:  82%|████████▏ | 155/189 [00:19<00:04,  8.11it/s]"
     ]
    },
    {
     "name": "stdout",
     "output_type": "stream",
     "text": [
      "(15396800,)\n",
      "(15195200,)\n"
     ]
    },
    {
     "name": "stderr",
     "output_type": "stream",
     "text": [
      "Processing DAIC-WOZ sessions:  84%|████████▎ | 158/189 [00:19<00:03,  8.60it/s]"
     ]
    },
    {
     "name": "stdout",
     "output_type": "stream",
     "text": [
      "(15601600,)\n",
      "(15704000,)\n"
     ]
    },
    {
     "name": "stderr",
     "output_type": "stream",
     "text": [
      "Processing DAIC-WOZ sessions:  84%|████████▍ | 159/189 [00:20<00:03,  8.15it/s]"
     ]
    },
    {
     "name": "stdout",
     "output_type": "stream",
     "text": [
      "(15441600,)\n",
      "(13355200,)\n"
     ]
    },
    {
     "name": "stderr",
     "output_type": "stream",
     "text": [
      "Processing DAIC-WOZ sessions:  85%|████████▌ | 161/189 [00:20<00:03,  8.29it/s]"
     ]
    },
    {
     "name": "stdout",
     "output_type": "stream",
     "text": [
      "(15684800,)\n",
      "(18614400,)\n"
     ]
    },
    {
     "name": "stderr",
     "output_type": "stream",
     "text": [
      "Processing DAIC-WOZ sessions:  86%|████████▌ | 163/189 [00:20<00:04,  6.49it/s]"
     ]
    },
    {
     "name": "stdout",
     "output_type": "stream",
     "text": [
      "(25064000,)\n",
      "(16038400,)\n"
     ]
    },
    {
     "name": "stderr",
     "output_type": "stream",
     "text": [
      "Processing DAIC-WOZ sessions:  87%|████████▋ | 165/189 [00:20<00:03,  7.06it/s]"
     ]
    },
    {
     "name": "stdout",
     "output_type": "stream",
     "text": [
      "(15036800,)\n",
      "(18025600,)\n"
     ]
    },
    {
     "name": "stderr",
     "output_type": "stream",
     "text": [
      "Processing DAIC-WOZ sessions:  88%|████████▊ | 167/189 [00:21<00:03,  7.05it/s]"
     ]
    },
    {
     "name": "stdout",
     "output_type": "stream",
     "text": [
      "(15286400,)\n",
      "(15924800,)\n"
     ]
    },
    {
     "name": "stderr",
     "output_type": "stream",
     "text": [
      "Processing DAIC-WOZ sessions:  89%|████████▉ | 169/189 [00:21<00:02,  7.64it/s]"
     ]
    },
    {
     "name": "stdout",
     "output_type": "stream",
     "text": [
      "(14448000,)\n",
      "(8532800,)\n",
      "(14838400,)\n"
     ]
    },
    {
     "name": "stderr",
     "output_type": "stream",
     "text": [
      "Processing DAIC-WOZ sessions:  92%|█████████▏| 173/189 [00:21<00:01, 10.85it/s]"
     ]
    },
    {
     "name": "stdout",
     "output_type": "stream",
     "text": [
      "(9395200,)\n",
      "(9740800,)\n",
      "(19915200,)\n"
     ]
    },
    {
     "name": "stderr",
     "output_type": "stream",
     "text": [
      "Processing DAIC-WOZ sessions:  93%|█████████▎| 175/189 [00:22<00:01,  9.02it/s]"
     ]
    },
    {
     "name": "stdout",
     "output_type": "stream",
     "text": [
      "(14979200,)\n",
      "(14566400,)\n",
      "(13851200,)\n"
     ]
    },
    {
     "name": "stderr",
     "output_type": "stream",
     "text": [
      "Processing DAIC-WOZ sessions:  94%|█████████▍| 178/189 [00:22<00:01,  8.67it/s]"
     ]
    },
    {
     "name": "stdout",
     "output_type": "stream",
     "text": [
      "(17862400,)\n",
      "(16304000,)\n"
     ]
    },
    {
     "name": "stderr",
     "output_type": "stream",
     "text": [
      "Processing DAIC-WOZ sessions:  95%|█████████▌| 180/189 [00:22<00:01,  7.08it/s]"
     ]
    },
    {
     "name": "stdout",
     "output_type": "stream",
     "text": [
      "(25232000,)\n",
      "(15928000,)\n"
     ]
    },
    {
     "name": "stderr",
     "output_type": "stream",
     "text": [
      "Processing DAIC-WOZ sessions:  97%|█████████▋| 183/189 [00:23<00:00,  8.59it/s]"
     ]
    },
    {
     "name": "stdout",
     "output_type": "stream",
     "text": [
      "(9643200,)\n",
      "(10916800,)\n",
      "(16376000,)\n"
     ]
    },
    {
     "name": "stderr",
     "output_type": "stream",
     "text": [
      "Processing DAIC-WOZ sessions:  98%|█████████▊| 185/189 [00:23<00:00,  8.40it/s]"
     ]
    },
    {
     "name": "stdout",
     "output_type": "stream",
     "text": [
      "(14158400,)\n",
      "(11275200,)\n",
      "(11060800,)\n"
     ]
    },
    {
     "name": "stderr",
     "output_type": "stream",
     "text": [
      "Processing DAIC-WOZ sessions: 100%|██████████| 189/189 [00:23<00:00,  8.00it/s]\n"
     ]
    },
    {
     "name": "stdout",
     "output_type": "stream",
     "text": [
      "(14107200,)\n",
      "(14600000,)\n",
      "Processing ../datasets/EDAIC-WOZ -> ../datasets/EDAIC-WOZ-preprocessed\n"
     ]
    },
    {
     "name": "stderr",
     "output_type": "stream",
     "text": [
      "Processing EDAIC-WOZ sessions:   3%|▎         | 1/29 [00:00<00:02,  9.88it/s]"
     ]
    },
    {
     "name": "stdout",
     "output_type": "stream",
     "text": [
      "(12446240,)\n",
      "(10028960,)\n"
     ]
    },
    {
     "name": "stderr",
     "output_type": "stream",
     "text": [
      "Processing EDAIC-WOZ sessions:  10%|█         | 3/29 [00:00<00:03,  8.16it/s]"
     ]
    },
    {
     "name": "stdout",
     "output_type": "stream",
     "text": [
      "(21824480,)\n",
      "(13589760,)\n"
     ]
    },
    {
     "name": "stderr",
     "output_type": "stream",
     "text": [
      "Processing EDAIC-WOZ sessions:  17%|█▋        | 5/29 [00:01<00:10,  2.19it/s]"
     ]
    },
    {
     "name": "stdout",
     "output_type": "stream",
     "text": [
      "(2,)\n",
      "(26989280,)\n"
     ]
    },
    {
     "name": "stderr",
     "output_type": "stream",
     "text": [
      "Processing EDAIC-WOZ sessions:  24%|██▍       | 7/29 [00:03<00:15,  1.40it/s]"
     ]
    },
    {
     "name": "stdout",
     "output_type": "stream",
     "text": [
      "(2,)\n",
      "(8401280,)\n"
     ]
    },
    {
     "name": "stderr",
     "output_type": "stream",
     "text": [
      "Processing EDAIC-WOZ sessions:  31%|███       | 9/29 [00:04<00:11,  1.74it/s]"
     ]
    },
    {
     "name": "stdout",
     "output_type": "stream",
     "text": [
      "(2,)\n",
      "(12079360,)\n"
     ]
    },
    {
     "name": "stderr",
     "output_type": "stream",
     "text": [
      "Processing EDAIC-WOZ sessions:  38%|███▊      | 11/29 [00:05<00:09,  1.84it/s]"
     ]
    },
    {
     "name": "stdout",
     "output_type": "stream",
     "text": [
      "(2,)\n",
      "(13681440,)\n",
      "(15811040,)\n"
     ]
    },
    {
     "name": "stderr",
     "output_type": "stream",
     "text": [
      "Processing EDAIC-WOZ sessions:  48%|████▊     | 14/29 [00:07<00:08,  1.69it/s]"
     ]
    },
    {
     "name": "stdout",
     "output_type": "stream",
     "text": [
      "(2,)\n"
     ]
    },
    {
     "name": "stderr",
     "output_type": "stream",
     "text": [
      "Processing EDAIC-WOZ sessions:  52%|█████▏    | 15/29 [00:08<00:10,  1.38it/s]"
     ]
    },
    {
     "name": "stdout",
     "output_type": "stream",
     "text": [
      "(2,)\n",
      "(9630560,)\n"
     ]
    },
    {
     "name": "stderr",
     "output_type": "stream",
     "text": [
      "Processing EDAIC-WOZ sessions:  59%|█████▊    | 17/29 [00:09<00:07,  1.62it/s]"
     ]
    },
    {
     "name": "stdout",
     "output_type": "stream",
     "text": [
      "(2,)\n"
     ]
    },
    {
     "name": "stderr",
     "output_type": "stream",
     "text": [
      "Processing EDAIC-WOZ sessions:  62%|██████▏   | 18/29 [00:10<00:08,  1.32it/s]"
     ]
    },
    {
     "name": "stdout",
     "output_type": "stream",
     "text": [
      "(2,)\n",
      "(11759360,)\n"
     ]
    },
    {
     "name": "stderr",
     "output_type": "stream",
     "text": [
      "Processing EDAIC-WOZ sessions:  72%|███████▏  | 21/29 [00:11<00:04,  1.73it/s]"
     ]
    },
    {
     "name": "stdout",
     "output_type": "stream",
     "text": [
      "(2,)\n",
      "(18032800,)\n"
     ]
    },
    {
     "name": "stderr",
     "output_type": "stream",
     "text": [
      "Processing EDAIC-WOZ sessions:  76%|███████▌  | 22/29 [00:12<00:04,  1.56it/s]"
     ]
    },
    {
     "name": "stdout",
     "output_type": "stream",
     "text": [
      "(2,)\n"
     ]
    },
    {
     "name": "stderr",
     "output_type": "stream",
     "text": [
      "Processing EDAIC-WOZ sessions:  83%|████████▎ | 24/29 [00:13<00:03,  1.65it/s]"
     ]
    },
    {
     "name": "stdout",
     "output_type": "stream",
     "text": [
      "(2,)\n",
      "(12217280,)\n"
     ]
    },
    {
     "name": "stderr",
     "output_type": "stream",
     "text": [
      "Processing EDAIC-WOZ sessions:  93%|█████████▎| 27/29 [00:15<00:00,  2.10it/s]"
     ]
    },
    {
     "name": "stdout",
     "output_type": "stream",
     "text": [
      "(2,)\n",
      "(11280000,)\n",
      "(12575840,)\n"
     ]
    },
    {
     "name": "stderr",
     "output_type": "stream",
     "text": [
      "Processing EDAIC-WOZ sessions: 100%|██████████| 29/29 [00:16<00:00,  1.78it/s]"
     ]
    },
    {
     "name": "stdout",
     "output_type": "stream",
     "text": [
      "(2,)\n",
      "(15515360,)\n"
     ]
    },
    {
     "name": "stderr",
     "output_type": "stream",
     "text": [
      "\n"
     ]
    }
   ],
   "source": [
    "# Elaborazione dataset - salva in directory separate\n",
    "dataset_configs = [\n",
    "    {\"input_dir\": \"../datasets/DAIC-WOZ\", \"output_dir\": \"../datasets/DAIC-WOZ-preprocessed\"},\n",
    "    {\"input_dir\": \"../datasets/EDAIC-WOZ\", \"output_dir\": \"../datasets/EDAIC-WOZ-preprocessed\"}\n",
    "]\n",
    "\n",
    "for config in dataset_configs:\n",
    "    dataset_dir = config[\"input_dir\"]\n",
    "    output_dir = config[\"output_dir\"]\n",
    "    os.makedirs(output_dir, exist_ok=True)\n",
    "    \n",
    "    dataset_sessions = sorted([d for d in os.listdir(dataset_dir) \\\n",
    "                   if os.path.isdir(os.path.join(dataset_dir, d)) and d.endswith('_P')])\n",
    "\n",
    "    print(f\"Processing {dataset_dir} -> {output_dir}\")\n",
    "    for session in tqdm(dataset_sessions, desc=f\"Processing {os.path.basename(dataset_dir)} sessions\"):\n",
    "        session_path = os.path.join(dataset_dir, session)\n",
    "        session_id = session.replace(\"_P\", \"\")\n",
    "\n",
    "        # Percorsi file input\n",
    "        audio_path = os.path.join(session_path, f\"{session_id}_AUDIO.wav\")\n",
    "        transcript_path = os.path.join(session_path, f\"{session_id}_TRANSCRIPT.csv\")\n",
    "        \n",
    "        # Percorsi file output\n",
    "        output_session_path = os.path.join(output_dir, session)\n",
    "        os.makedirs(output_session_path, exist_ok=True)\n",
    "        output_audio_path = os.path.join(output_session_path, f\"{session_id}_AUDIO.wav\")\n",
    "        output_transcript_path = os.path.join(output_session_path, f\"{session_id}_TRANSCRIPT.csv\")\n",
    "        \n",
    "        # Processa sessione\n",
    "        original_duration, cleaned_duration = clean_audio_and_transcript(\n",
    "            audio_path, transcript_path, output_audio_path, output_transcript_path, \n",
    "            buffer_sec=0.1, min_gap_for_pause=2.0, pause_duration=0.5\n",
    "        )"
   ]
  },
  {
   "cell_type": "code",
   "execution_count": 12,
   "id": "171567b3",
   "metadata": {},
   "outputs": [],
   "source": [
    "def analyze_audio_lengths(dataset_dir):\n",
    "    \"\"\"\n",
    "    Analizza le lunghezze degli audio per determinare parametri ottimali\n",
    "    \n",
    "    Returns:\n",
    "        dict: Statistiche delle durate\n",
    "    \"\"\"\n",
    "    print(\"Analizzando lunghezze audio...\")\n",
    "    durations = []\n",
    "    session_names = []\n",
    "    session_dirs = sorted([d for d in os.listdir(dataset_dir) \\\n",
    "                   if os.path.isdir(os.path.join(dataset_dir, d)) and d.endswith('_P')])\n",
    "\n",
    "    for session in tqdm(session_dirs, desc=\"Analisi campione\"):\n",
    "        session_path = os.path.join(dataset_dir, session)\n",
    "        session_id = session.replace(\"_P\", \"\")\n",
    "        transcript_path = os.path.join(session_path, f\"{session_id}_TRANSCRIPT.csv\")\n",
    "        \n",
    "        transcript = pd.read_csv(transcript_path, sep='\\t')\n",
    "        durations.append(transcript['stop_time'].max())\n",
    "        session_names.append(session_id) \n",
    "    \n",
    "    durations = np.array(durations)\n",
    "    min_idx = np.argmin(durations)\n",
    "    max_idx = np.argmax(durations)\n",
    "    \n",
    "    stats = {\n",
    "        'count': len(durations),\n",
    "        'mean': np.mean(durations),\n",
    "        'median': np.median(durations),\n",
    "        'std': np.std(durations),\n",
    "        'min': np.min(durations),\n",
    "        'max': np.max(durations),\n",
    "        'min_audio': session_names[min_idx],  # Nome audio con durata minima\n",
    "        'max_audio': session_names[max_idx],  # Nome audio con durata massima\n",
    "        'q25': np.percentile(durations, 25),\n",
    "        'q75': np.percentile(durations, 75)\n",
    "    }\n",
    "    \n",
    "    return stats"
   ]
  },
  {
   "cell_type": "code",
   "execution_count": 13,
   "id": "4ca86e39",
   "metadata": {},
   "outputs": [],
   "source": [
    "def apply_pitch_shift(audio, sr, n_steps):\n",
    "    \"\"\"\n",
    "    Applica pitch shift all'audio\n",
    "    \n",
    "    Args:\n",
    "        audio: Array audio\n",
    "        sr: Sample rate\n",
    "        n_steps: Numero di semitoni da spostare (+/- valori)\n",
    "    \n",
    "    Returns:\n",
    "        Audio con pitch modificato\n",
    "    \"\"\"\n",
    "    return librosa.effects.pitch_shift(audio, sr=sr, n_steps=-n_steps)\n",
    "\n",
    "def create_tone_change_augmentation(dataset_dirs, labels_dict, dataset_csv_path, percentage=0.2, pitch_steps=2):\n",
    "    \"\"\"\n",
    "    Crea augmentation con tone change per i campioni di classe 1\n",
    "    \n",
    "    Args:\n",
    "        dataset_dirs: Lista delle directory dei dataset preprocessati\n",
    "        labels_dict: Dizionario con le etichette {session_id: label}\n",
    "        dataset_csv_path: Path del file dataset.csv da aggiornare\n",
    "        percentage: Percentuale di campioni da modificare\n",
    "        pitch_steps: Numero di semitoni per il pitch shift\n",
    "    \n",
    "    Returns:\n",
    "        Lista delle nuove entry create\n",
    "    \"\"\"\n",
    "    print(f\"Creando augmentation con tone change per il {percentage*100}% dei campioni di classe 1...\")\n",
    "    \n",
    "    # Carica il dataset CSV esistente\n",
    "    dataset_df = pd.read_csv(dataset_csv_path)\n",
    "    new_entries = []\n",
    "    \n",
    "    for dataset_dir in dataset_dirs:\n",
    "        print(f\"Processando {dataset_dir}...\")\n",
    "        \n",
    "        # Trova tutti i campioni di classe 1 nel dataset\n",
    "        class1_sessions = []\n",
    "        session_dirs = sorted([d for d in os.listdir(dataset_dir) \n",
    "                              if os.path.isdir(os.path.join(dataset_dir, d)) and d.endswith('_P')])\n",
    "        \n",
    "        for session in session_dirs:\n",
    "            session_id = session.replace('_P', '')\n",
    "            if labels_dict.get(session_id, 0) == 1:  # Classe 1 (depresso)\n",
    "                class1_sessions.append(session)\n",
    "        \n",
    "        print(f\"Trovati {len(class1_sessions)} campioni di classe 1 in {os.path.basename(dataset_dir)}\")\n",
    "        \n",
    "        if len(class1_sessions) == 0:\n",
    "            print(f\"Nessun campione di classe 1 trovato in {dataset_dir}\")\n",
    "            continue\n",
    "            \n",
    "        # Seleziona casualmente la percentuale specificata dei campioni di classe 1\n",
    "        num_to_modify = int(len(class1_sessions) * percentage)\n",
    "        if num_to_modify == 0:\n",
    "            print(f\"Nessun campione da modificare in {dataset_dir}\")\n",
    "            continue\n",
    "            \n",
    "        sessions_to_modify = random.sample(class1_sessions, num_to_modify)\n",
    "        \n",
    "        print(f\"Creando {num_to_modify} nuovi campioni ({percentage*100}%) in {os.path.basename(dataset_dir)}\")\n",
    "        \n",
    "        # Crea tone change per i campioni selezionati\n",
    "        for session in tqdm(sessions_to_modify, desc=f\"Tone change {os.path.basename(dataset_dir)}\"):\n",
    "            session_path = os.path.join(dataset_dir, session)\n",
    "            session_id = session.replace('_P', '')\n",
    "            \n",
    "            # File originali\n",
    "            original_audio_path = os.path.join(session_path, f\"{session_id}_AUDIO.wav\")\n",
    "            original_transcript_path = os.path.join(session_path, f\"{session_id}_TRANSCRIPT.csv\")\n",
    "            \n",
    "            # Nuovi nomi per i file augmentati\n",
    "            new_session_id = f\"{session_id}_tone\"\n",
    "            new_session_dir = f\"{session_id}_tone_P\"\n",
    "            \n",
    "            # Crea directory per il nuovo campione\n",
    "            new_session_path = os.path.join(dataset_dir, new_session_dir)\n",
    "            os.makedirs(new_session_path, exist_ok=True)\n",
    "            \n",
    "            # Percorsi per i nuovi file\n",
    "            new_audio_path = os.path.join(new_session_path, f\"{new_session_id}_AUDIO.wav\")\n",
    "            new_transcript_path = os.path.join(new_session_path, f\"{new_session_id}_TRANSCRIPT.csv\")\n",
    "            \n",
    "            # Leggi e modifica audio\n",
    "            audio, sr = sf.read(original_audio_path)\n",
    "            modified_audio = apply_pitch_shift(audio, sr, pitch_steps)\n",
    "            \n",
    "            # Salva nuovo audio\n",
    "            sf.write(new_audio_path, modified_audio, sr, subtype='PCM_16')\n",
    "            \n",
    "            # Copia il transcript (uguale all'originale)\n",
    "            original_transcript = pd.read_csv(original_transcript_path, sep='\\t')\n",
    "            original_transcript.to_csv(new_transcript_path, sep='\\t', index=False)\n",
    "            \n",
    "            # Crea entry per il dataset.csv\n",
    "            dataset_df['Participant_ID'] = dataset_df['Participant_ID'].astype(str)\n",
    "            original_entry = dataset_df[dataset_df['Participant_ID'] == session_id].iloc[0]\n",
    "            new_entry = {\n",
    "                'session_id': new_session_id,\n",
    "                'label': original_entry['PHQ_Binary'],  # Mantiene la stessa etichetta\n",
    "                'augmentation': 'tone_change'  # Aggiungi colonna per indicare l'augmentation\n",
    "            }\n",
    "            \n",
    "            # Aggiungi altre colonne se presenti nel dataset originale\n",
    "            for col in dataset_df.columns:\n",
    "                if col not in new_entry:\n",
    "                    new_entry[col] = original_entry[col]\n",
    "            \n",
    "            new_entries.append(new_entry)\n",
    "            \n",
    "        print(f\"Tone change completato per {len(sessions_to_modify)} campioni in {os.path.basename(dataset_dir)}\")\n",
    "    \n",
    "    # Aggiungi le nuove entry al dataset\n",
    "    if new_entries:\n",
    "        new_df = pd.DataFrame(new_entries)\n",
    "        \n",
    "        # Aggiungi colonna augmentation se non esiste\n",
    "        if 'augmentation' not in dataset_df.columns:\n",
    "            dataset_df['augmentation'] = 'none'\n",
    "            \n",
    "        # Concatena i nuovi dati\n",
    "        updated_dataset_df = pd.concat([dataset_df, new_df], ignore_index=True)\n",
    "        \n",
    "        # Salva il dataset aggiornato\n",
    "        updated_dataset_df.to_csv(dataset_csv_path, index=False)\n",
    "        print(f\"Dataset aggiornato con {len(new_entries)} nuove entry salvato in {dataset_csv_path}\")\n",
    "    \n",
    "    return new_entries"
   ]
  },
  {
   "cell_type": "code",
   "execution_count": 14,
   "id": "37492351",
   "metadata": {},
   "outputs": [
    {
     "name": "stdout",
     "output_type": "stream",
     "text": [
      "Participant_ID    int64\n",
      "PHQ_Binary        int64\n",
      "dtype: object\n",
      "Percentuale per tone change: 20.0%\n",
      "Numero totale di sessioni: 218\n",
      "Sessioni di classe 1: 86\n",
      "Creando augmentation con tone change per il 20.0% dei campioni di classe 1...\n",
      "Processando ../datasets/DAIC-WOZ-preprocessed...\n",
      "Trovati 57 campioni di classe 1 in DAIC-WOZ-preprocessed\n",
      "Creando 11 nuovi campioni (20.0%) in DAIC-WOZ-preprocessed\n"
     ]
    },
    {
     "name": "stderr",
     "output_type": "stream",
     "text": [
      "Tone change DAIC-WOZ-preprocessed: 100%|██████████| 11/11 [00:17<00:00,  1.59s/it]\n"
     ]
    },
    {
     "name": "stdout",
     "output_type": "stream",
     "text": [
      "Tone change completato per 11 campioni in DAIC-WOZ-preprocessed\n",
      "Processando ../datasets/EDAIC-WOZ-preprocessed...\n",
      "Trovati 29 campioni di classe 1 in EDAIC-WOZ-preprocessed\n",
      "Creando 5 nuovi campioni (20.0%) in EDAIC-WOZ-preprocessed\n"
     ]
    },
    {
     "name": "stderr",
     "output_type": "stream",
     "text": [
      "Tone change EDAIC-WOZ-preprocessed: 100%|██████████| 5/5 [00:04<00:00,  1.07it/s]"
     ]
    },
    {
     "name": "stdout",
     "output_type": "stream",
     "text": [
      "Tone change completato per 5 campioni in EDAIC-WOZ-preprocessed\n",
      "Dataset aggiornato con 16 nuove entry salvato in ../datasets/dataset.csv\n",
      "Creati 16 nuovi campioni con tone change\n",
      "- 308 , label: 1)\n",
      "- 388 , label: 1)\n",
      "- 413 , label: 1)\n",
      "- 330 , label: 1)\n",
      "- 352 , label: 1)\n"
     ]
    },
    {
     "name": "stderr",
     "output_type": "stream",
     "text": [
      "\n"
     ]
    }
   ],
   "source": [
    "# Carica il dataset CSV per ottenere le etichette e la percentuale\n",
    "dataset_csv_path = \"../datasets/dataset.csv\"\n",
    "dataset_df = pd.read_csv(dataset_csv_path)\n",
    "print(dataset_df.dtypes)\n",
    "# Crea dizionario delle etichette\n",
    "labels_dict = dict(zip(dataset_df['Participant_ID'].astype(str), dataset_df['PHQ_Binary']))\n",
    "\n",
    "# Leggi la percentuale dal CSV (assumendo che ci sia una colonna 'tone_change_percentage')\n",
    "# Se non esiste, usa un valore di default\n",
    "if 'tone_change_percentage' in dataset_df.columns:\n",
    "    # Prendi il primo valore non-null della colonna percentuale\n",
    "    percentage = dataset_df['tone_change_percentage'].dropna().iloc[0] if not dataset_df['tone_change_percentage'].dropna().empty else 0.2\n",
    "else:\n",
    "    percentage = 0.2  # Default 20%\n",
    "\n",
    "print(f\"Percentuale per tone change: {percentage*100}%\")\n",
    "print(f\"Numero totale di sessioni: {len(labels_dict)}\")\n",
    "print(f\"Sessioni di classe 1: {sum(1 for v in labels_dict.values() if v == 1)}\")\n",
    "\n",
    "# Directory dei dataset preprocessati\n",
    "preprocessed_dirs = [\"../datasets/DAIC-WOZ-preprocessed\", \"../datasets/EDAIC-WOZ-preprocessed\"]\n",
    "\n",
    "# Crea augmentation con tone change\n",
    "new_entries = create_tone_change_augmentation(\n",
    "    preprocessed_dirs, \n",
    "    labels_dict, \n",
    "    dataset_csv_path, \n",
    "    percentage=percentage, \n",
    "    pitch_steps=1.5\n",
    ")\n",
    "\n",
    "print(f\"Creati {len(new_entries)} nuovi campioni con tone change\")\n",
    "for entry in new_entries[:5]:  # Mostra i primi 5 per verifica\n",
    "    print(f\"- {entry['Participant_ID']} , label: {entry['PHQ_Binary']})\")"
   ]
  }
 ],
 "metadata": {
  "kernelspec": {
   "display_name": "speech_project",
   "language": "python",
   "name": "python3"
  },
  "language_info": {
   "codemirror_mode": {
    "name": "ipython",
    "version": 3
   },
   "file_extension": ".py",
   "mimetype": "text/x-python",
   "name": "python",
   "nbconvert_exporter": "python",
   "pygments_lexer": "ipython3",
   "version": "3.10.18"
  }
 },
 "nbformat": 4,
 "nbformat_minor": 5
}
